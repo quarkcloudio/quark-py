{
 "cells": [
  {
   "cell_type": "markdown",
   "metadata": {},
   "source": [
    "1、使用如下代码启动系统"
   ]
  },
  {
   "cell_type": "code",
   "execution_count": 1,
   "metadata": {},
   "outputs": [
    {
     "name": "stdout",
     "output_type": "stream",
     "text": [
      " * Serving Flask app '__main__'\n",
      " * Debug mode: off\n"
     ]
    },
    {
     "name": "stderr",
     "output_type": "stream",
     "text": [
      "WARNING: This is a development server. Do not use it in a production deployment. Use a production WSGI server instead.\n",
      " * Running on all addresses (0.0.0.0)\n",
      " * Running on http://127.0.0.1:3000\n",
      " * Running on http://10.10.200.20:3000\n",
      "Press CTRL+C to quit\n",
      "127.0.0.1 - - [11/Apr/2025 15:56:59] \"GET / HTTP/1.1\" 200 -\n"
     ]
    }
   ],
   "source": [
    "#coding: utf-8\n",
    "from quark import Quark\n",
    "\n",
    "# 创建一个app\n",
    "app = Quark(__name__)\n",
    "\n",
    "# 设置debug模式\n",
    "app.config[\"DEBUG\"] = False\n",
    "\n",
    "# 创建路由\n",
    "@app.route('/')\n",
    "def index() -> str:\n",
    "    return 'Hello World!'\n",
    "\n",
    "if __name__ == \"__main__\":\n",
    "    app.run(host=\"0.0.0.0\", port=3000)\n"
   ]
  }
 ],
 "metadata": {
  "kernelspec": {
   "display_name": ".venv",
   "language": "python",
   "name": "python3"
  },
  "language_info": {
   "codemirror_mode": {
    "name": "ipython",
    "version": 3
   },
   "file_extension": ".py",
   "mimetype": "text/x-python",
   "name": "python",
   "nbconvert_exporter": "python",
   "pygments_lexer": "ipython3",
   "version": "3.13.3"
  }
 },
 "nbformat": 4,
 "nbformat_minor": 2
}
