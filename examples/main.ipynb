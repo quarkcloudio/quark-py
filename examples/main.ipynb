{
 "cells": [
  {
   "cell_type": "code",
   "execution_count": null,
   "metadata": {},
   "outputs": [],
   "source": [
    "#coding: utf-8\n",
    "from flask import Flask\n",
    "\n",
    "# 创建一个app\n",
    "app = Flask(__name__)\n",
    "\n",
    "# 设置debug模式\n",
    "app.config[\"DEBUG\"] = True\n",
    "\n",
    "# 创建路由\n",
    "@app.route('/')\n",
    "def index() -> str:\n",
    "    return 'Hello World!'\n",
    "\n",
    "if __name__ == \"__main__\":\n",
    "    app.run(host=\"0.0.0.0\", port=3000)"
   ]
  }
 ],
 "metadata": {
  "kernelspec": {
   "display_name": "base",
   "language": "python",
   "name": "python3"
  },
  "language_info": {
   "codemirror_mode": {
    "name": "ipython",
    "version": 3
   },
   "file_extension": ".py",
   "mimetype": "text/x-python",
   "name": "python",
   "nbconvert_exporter": "python",
   "pygments_lexer": "ipython3",
   "version": "3.11.7"
  }
 },
 "nbformat": 4,
 "nbformat_minor": 2
}
